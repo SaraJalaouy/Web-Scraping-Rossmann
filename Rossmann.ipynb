{
 "cells": [
  {
   "cell_type": "code",
   "execution_count": 1,
   "id": "f2f04abe",
   "metadata": {},
   "outputs": [],
   "source": [
    "# import libraries \n",
    "\n",
    "from bs4 import BeautifulSoup #Parsing HTML and XML documents\n",
    "import requests #Send HTTP requests to URLs to retrieve web page content\n",
    "import pandas as pd\n",
    "import matplotlib.pyplot as plt\n",
    "import seaborn as sns # Seaborn library for data visualization\n"
   ]
  },
  {
   "cell_type": "code",
   "execution_count": 2,
   "id": "69f8efb5",
   "metadata": {},
   "outputs": [
    {
     "name": "stdout",
     "output_type": "stream",
     "text": [
      "Pages iterated: 10\n"
     ]
    }
   ],
   "source": [
    "pages=[]\n",
    "\n",
    "headers = {'User-Agent': 'Mozilla/5.0 (Windows NT 10.0; Win64; x64) AppleWebKit/537.36 (KHTML, like Gecko) Chrome/89.0.4389.82 Safari/537.36'}\n",
    "\n",
    "\n",
    "for i in range(0,10):\n",
    "    url='https://www.rossmann.de/de/make-up/c/olcat1_1?q=%3Arelevance%3A&page=' + str(i)\n",
    "    src=requests.get(url,headers=headers)\n",
    "    page = BeautifulSoup(src.content, 'lxml') #.body\n",
    "    pages.append(page)\n",
    "    posts= page.find_all(\"div\", class_=\"rm-product__title\")\n",
    "    \n",
    "print('Pages iterated: ' + str(len(pages)))\n",
    "\n"
   ]
  },
  {
   "cell_type": "code",
   "execution_count": 3,
   "id": "18a20c18",
   "metadata": {},
   "outputs": [
    {
     "name": "stdout",
     "output_type": "stream",
     "text": [
      "posts found : 240\n"
     ]
    }
   ],
   "source": [
    "posts=[]\n",
    "\n",
    "for page in pages:\n",
    "    for post in page.find_all(\"div\", class_=\"rm-tile-product\"):\n",
    "        posts.append(post)\n",
    "        \n",
    "        # Extract the required attributes\n",
    "        brand = post.get('data-product-brand')\n",
    "        price = post.get('data-product-price')\n",
    "        name = post.get('data-product-name')\n",
    "        #print(f'Brand: {brand}, Price: {price}, Name: {name}')\n",
    "        \n",
    "print('posts found :', len(posts))\n"
   ]
  },
  {
   "cell_type": "code",
   "execution_count": 4,
   "id": "2cd1c5d4",
   "metadata": {},
   "outputs": [],
   "source": [
    "reviews=[]\n",
    "\n",
    "for post in posts:\n",
    "    review_element = post.find_next(\"div\", class_=\"rm-rating\")\n",
    "    if review_element:\n",
    "        review = review_element.text.strip()\n",
    "        reviews.append(int(review))\n",
    "    else:\n",
    "        reviews.append(None)\n",
    "    \n",
    "    \n",
    "#reviews"
   ]
  },
  {
   "cell_type": "code",
   "execution_count": 5,
   "id": "3b827f6d",
   "metadata": {},
   "outputs": [],
   "source": [
    "prices=[]\n",
    "\n",
    "for post in posts:\n",
    "    # Extract the price from the dictionary using the 'data-product-price' key\n",
    "    price = post.get('data-product-price')\n",
    "    prices.append(float(price))\n",
    "    \n",
    "#prices\n"
   ]
  },
  {
   "cell_type": "code",
   "execution_count": 6,
   "id": "a7da1228",
   "metadata": {},
   "outputs": [],
   "source": [
    "brands=[]\n",
    "\n",
    "for post in posts:\n",
    "    brand=post.get('data-product-brand')\n",
    "    brands.append(brand)\n",
    "    \n",
    "#brands"
   ]
  },
  {
   "cell_type": "code",
   "execution_count": 7,
   "id": "dee5682f",
   "metadata": {},
   "outputs": [],
   "source": [
    "ProductsName=[]\n",
    "for post in posts:\n",
    "    name=post.find(\"div\",class_=\"rm-product__title\")\n",
    "    if name:\n",
    "        names=name.text.strip()\n",
    "        ProductsName.append(names)\n",
    "    else:\n",
    "        ProductsName.append(None)\n",
    "        \n",
    "#ProductsName\n"
   ]
  },
  {
   "cell_type": "code",
   "execution_count": 8,
   "id": "699e6548",
   "metadata": {},
   "outputs": [],
   "source": [
    "weight=[]\n",
    "for post in posts:\n",
    "    weights=post.find(\"div\",class_=\"rm-price__base\")\n",
    "    weight_=weights.text.strip()\n",
    "    weight.append(weight_)\n",
    "#weight"
   ]
  },
  {
   "cell_type": "code",
   "execution_count": 9,
   "id": "e83b0ddf",
   "metadata": {},
   "outputs": [
    {
     "data": {
      "text/html": [
       "<div>\n",
       "<style scoped>\n",
       "    .dataframe tbody tr th:only-of-type {\n",
       "        vertical-align: middle;\n",
       "    }\n",
       "\n",
       "    .dataframe tbody tr th {\n",
       "        vertical-align: top;\n",
       "    }\n",
       "\n",
       "    .dataframe thead th {\n",
       "        text-align: right;\n",
       "    }\n",
       "</style>\n",
       "<table border=\"1\" class=\"dataframe\">\n",
       "  <thead>\n",
       "    <tr style=\"text-align: right;\">\n",
       "      <th></th>\n",
       "      <th>ProductsName</th>\n",
       "      <th>brands</th>\n",
       "      <th>reviews</th>\n",
       "      <th>prices</th>\n",
       "    </tr>\n",
       "  </thead>\n",
       "  <tbody>\n",
       "    <tr>\n",
       "      <th>0</th>\n",
       "      <td>Bronze to Paradise 02 Baby one more tan</td>\n",
       "      <td>L’Oréal Paris</td>\n",
       "      <td>187</td>\n",
       "      <td>12.99</td>\n",
       "    </tr>\n",
       "    <tr>\n",
       "      <th>1</th>\n",
       "      <td>I LOVE EXTREME crazy volume mascara</td>\n",
       "      <td>essence</td>\n",
       "      <td>85</td>\n",
       "      <td>2.39</td>\n",
       "    </tr>\n",
       "    <tr>\n",
       "      <th>2</th>\n",
       "      <td>Lash Sensational Sky High Very Black</td>\n",
       "      <td>Maybelline New York</td>\n",
       "      <td>334</td>\n",
       "      <td>10.39</td>\n",
       "    </tr>\n",
       "    <tr>\n",
       "      <th>3</th>\n",
       "      <td>Lash Sensational Sky High WTP Mascara Black</td>\n",
       "      <td>Maybelline New York</td>\n",
       "      <td>334</td>\n",
       "      <td>10.39</td>\n",
       "    </tr>\n",
       "    <tr>\n",
       "      <th>4</th>\n",
       "      <td>Masterpiece 2in1 Lash WOW Mascara</td>\n",
       "      <td>Max Factor</td>\n",
       "      <td>238</td>\n",
       "      <td>10.39</td>\n",
       "    </tr>\n",
       "    <tr>\n",
       "      <th>...</th>\n",
       "      <td>...</td>\n",
       "      <td>...</td>\n",
       "      <td>...</td>\n",
       "      <td>...</td>\n",
       "    </tr>\n",
       "    <tr>\n",
       "      <th>235</th>\n",
       "      <td>Aqua Jelly Make-up 03 creamy natural</td>\n",
       "      <td>HYPOAllergenic</td>\n",
       "      <td>8</td>\n",
       "      <td>5.59</td>\n",
       "    </tr>\n",
       "    <tr>\n",
       "      <th>236</th>\n",
       "      <td>Mascara Masterpiece</td>\n",
       "      <td>Max Factor</td>\n",
       "      <td>31</td>\n",
       "      <td>8.79</td>\n",
       "    </tr>\n",
       "    <tr>\n",
       "      <th>237</th>\n",
       "      <td>Melting Moisture Lipstick 01 soft cream</td>\n",
       "      <td>HYPOAllergenic</td>\n",
       "      <td>2</td>\n",
       "      <td>4.54</td>\n",
       "    </tr>\n",
       "    <tr>\n",
       "      <th>238</th>\n",
       "      <td>Longwear Hydrating Balm Foundation 01 Alabaster</td>\n",
       "      <td>HYPOAllergenic</td>\n",
       "      <td>5</td>\n",
       "      <td>6.99</td>\n",
       "    </tr>\n",
       "    <tr>\n",
       "      <th>239</th>\n",
       "      <td>Hydrating 2-Phase Serum</td>\n",
       "      <td>HYPOAllergenic</td>\n",
       "      <td>2</td>\n",
       "      <td>6.29</td>\n",
       "    </tr>\n",
       "  </tbody>\n",
       "</table>\n",
       "<p>240 rows × 4 columns</p>\n",
       "</div>"
      ],
      "text/plain": [
       "                                        ProductsName               brands  \\\n",
       "0            Bronze to Paradise 02 Baby one more tan        L’Oréal Paris   \n",
       "1                I LOVE EXTREME crazy volume mascara              essence   \n",
       "2               Lash Sensational Sky High Very Black  Maybelline New York   \n",
       "3        Lash Sensational Sky High WTP Mascara Black  Maybelline New York   \n",
       "4                  Masterpiece 2in1 Lash WOW Mascara           Max Factor   \n",
       "..                                               ...                  ...   \n",
       "235             Aqua Jelly Make-up 03 creamy natural       HYPOAllergenic   \n",
       "236                              Mascara Masterpiece           Max Factor   \n",
       "237          Melting Moisture Lipstick 01 soft cream       HYPOAllergenic   \n",
       "238  Longwear Hydrating Balm Foundation 01 Alabaster       HYPOAllergenic   \n",
       "239                          Hydrating 2-Phase Serum       HYPOAllergenic   \n",
       "\n",
       "     reviews  prices  \n",
       "0        187   12.99  \n",
       "1         85    2.39  \n",
       "2        334   10.39  \n",
       "3        334   10.39  \n",
       "4        238   10.39  \n",
       "..       ...     ...  \n",
       "235        8    5.59  \n",
       "236       31    8.79  \n",
       "237        2    4.54  \n",
       "238        5    6.99  \n",
       "239        2    6.29  \n",
       "\n",
       "[240 rows x 4 columns]"
      ]
     },
     "execution_count": 9,
     "metadata": {},
     "output_type": "execute_result"
    }
   ],
   "source": [
    "df = pd.DataFrame(list(zip(ProductsName,brands,reviews,prices)),columns=['ProductsName','brands','reviews','prices'])\n",
    "df"
   ]
  },
  {
   "cell_type": "code",
   "execution_count": 10,
   "id": "727f49ec",
   "metadata": {},
   "outputs": [],
   "source": [
    "#df.to_excel('data.xlsx')"
   ]
  },
  {
   "cell_type": "code",
   "execution_count": 11,
   "id": "81c89e20",
   "metadata": {},
   "outputs": [
    {
     "data": {
      "text/html": [
       "<div>\n",
       "<style scoped>\n",
       "    .dataframe tbody tr th:only-of-type {\n",
       "        vertical-align: middle;\n",
       "    }\n",
       "\n",
       "    .dataframe tbody tr th {\n",
       "        vertical-align: top;\n",
       "    }\n",
       "\n",
       "    .dataframe thead th {\n",
       "        text-align: right;\n",
       "    }\n",
       "</style>\n",
       "<table border=\"1\" class=\"dataframe\">\n",
       "  <thead>\n",
       "    <tr style=\"text-align: right;\">\n",
       "      <th></th>\n",
       "      <th>brand</th>\n",
       "      <th>Number of products</th>\n",
       "    </tr>\n",
       "  </thead>\n",
       "  <tbody>\n",
       "    <tr>\n",
       "      <th>0</th>\n",
       "      <td>HYPOAllergenic</td>\n",
       "      <td>81</td>\n",
       "    </tr>\n",
       "    <tr>\n",
       "      <th>1</th>\n",
       "      <td>wet n wild</td>\n",
       "      <td>55</td>\n",
       "    </tr>\n",
       "    <tr>\n",
       "      <th>2</th>\n",
       "      <td>Maybelline New York</td>\n",
       "      <td>30</td>\n",
       "    </tr>\n",
       "    <tr>\n",
       "      <th>3</th>\n",
       "      <td>essence</td>\n",
       "      <td>16</td>\n",
       "    </tr>\n",
       "    <tr>\n",
       "      <th>4</th>\n",
       "      <td>Catrice</td>\n",
       "      <td>12</td>\n",
       "    </tr>\n",
       "    <tr>\n",
       "      <th>5</th>\n",
       "      <td>NailD</td>\n",
       "      <td>11</td>\n",
       "    </tr>\n",
       "    <tr>\n",
       "      <th>6</th>\n",
       "      <td>Max Factor</td>\n",
       "      <td>9</td>\n",
       "    </tr>\n",
       "    <tr>\n",
       "      <th>7</th>\n",
       "      <td>RIVAL DE LOOP</td>\n",
       "      <td>7</td>\n",
       "    </tr>\n",
       "    <tr>\n",
       "      <th>8</th>\n",
       "      <td>essie</td>\n",
       "      <td>6</td>\n",
       "    </tr>\n",
       "    <tr>\n",
       "      <th>9</th>\n",
       "      <td>Tweezerman</td>\n",
       "      <td>3</td>\n",
       "    </tr>\n",
       "    <tr>\n",
       "      <th>10</th>\n",
       "      <td>M. Asam</td>\n",
       "      <td>3</td>\n",
       "    </tr>\n",
       "    <tr>\n",
       "      <th>11</th>\n",
       "      <td>beurer</td>\n",
       "      <td>2</td>\n",
       "    </tr>\n",
       "    <tr>\n",
       "      <th>12</th>\n",
       "      <td>Revolution Makeup Revolution</td>\n",
       "      <td>1</td>\n",
       "    </tr>\n",
       "    <tr>\n",
       "      <th>13</th>\n",
       "      <td>Revolution I Heart Revolution</td>\n",
       "      <td>1</td>\n",
       "    </tr>\n",
       "    <tr>\n",
       "      <th>14</th>\n",
       "      <td>L’Oréal Paris</td>\n",
       "      <td>1</td>\n",
       "    </tr>\n",
       "    <tr>\n",
       "      <th>15</th>\n",
       "      <td>Sante</td>\n",
       "      <td>1</td>\n",
       "    </tr>\n",
       "    <tr>\n",
       "      <th>16</th>\n",
       "      <td>Avène</td>\n",
       "      <td>1</td>\n",
       "    </tr>\n",
       "  </tbody>\n",
       "</table>\n",
       "</div>"
      ],
      "text/plain": [
       "                            brand  Number of products\n",
       "0                  HYPOAllergenic                  81\n",
       "1                      wet n wild                  55\n",
       "2             Maybelline New York                  30\n",
       "3                         essence                  16\n",
       "4                         Catrice                  12\n",
       "5                           NailD                  11\n",
       "6                      Max Factor                   9\n",
       "7                   RIVAL DE LOOP                   7\n",
       "8                           essie                   6\n",
       "9                      Tweezerman                   3\n",
       "10                        M. Asam                   3\n",
       "11                         beurer                   2\n",
       "12   Revolution Makeup Revolution                   1\n",
       "13  Revolution I Heart Revolution                   1\n",
       "14                  L’Oréal Paris                   1\n",
       "15                          Sante                   1\n",
       "16                          Avène                   1"
      ]
     },
     "execution_count": 11,
     "metadata": {},
     "output_type": "execute_result"
    }
   ],
   "source": [
    "df1 = pd.DataFrame(list(zip(df['brands'].value_counts().index.tolist(), df['brands'].value_counts().values)), columns=['brand', 'Number of products'])\n",
    "df1"
   ]
  },
  {
   "cell_type": "code",
   "execution_count": 12,
   "id": "d9393b49",
   "metadata": {},
   "outputs": [
    {
     "data": {
      "image/png": "[encoded data removed]",
      "text/plain": [
       "<Figure size 432x288 with 1 Axes>"
      ]
     },
     "metadata": {
      "needs_background": "light"
     },
     "output_type": "display_data"
    }
   ],
   "source": [
    "hist=sns.countplot(y=brands)"
   ]
  },
  {
   "cell_type": "code",
   "execution_count": 13,
   "id": "eee7067e",
   "metadata": {},
   "outputs": [
    {
     "data": {
      "text/plain": [
       "Text(0, 0.5, 'Count of Products')"
      ]
     },
     "execution_count": 13,
     "metadata": {},
     "output_type": "execute_result"
    },
    {
     "data": {
      "image/png": "[encoded data removed]",
      "text/plain": [
       "<Figure size 432x288 with 1 Axes>"
      ]
     },
     "metadata": {
      "needs_background": "light"
     },
     "output_type": "display_data"
    }
   ],
   "source": [
    "# Create a histogram of the 'prices' list, where 'x=prices' indicates that the prices will be displayed on the x-axis \n",
    "hist=sns.histplot(x=prices,kde=True, color='red',edgecolor='black') #kde=Kernel Density Estimation\n",
    "\n",
    "# Set the x-axis label and title for the plot\n",
    "hist.set_xlabel('Prices distrubition (€)')\n",
    "plt.ylabel('Count of Products')\n"
   ]
  },
  {
   "cell_type": "code",
   "execution_count": null,
   "id": "6b8fa8e7",
   "metadata": {},
   "outputs": [],
   "source": []
  }
 ],
 "metadata": {
  "kernelspec": {
   "display_name": "Python 3 (ipykernel)",
   "language": "python",
   "name": "python3"
  },
  "language_info": {
   "codemirror_mode": {
    "name": "ipython",
    "version": 3
   },
   "file_extension": ".py",
   "mimetype": "text/x-python",
   "name": "python",
   "nbconvert_exporter": "python",
   "pygments_lexer": "ipython3",
   "version": "3.9.12"
  }
 },
 "nbformat": 4,
 "nbformat_minor": 5
}
